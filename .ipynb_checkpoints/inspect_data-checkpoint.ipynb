{
 "cells": [
  {
   "cell_type": "markdown",
   "id": "09c606d4-dce0-442c-8433-c431e30203ec",
   "metadata": {},
   "source": [
    "# Imports"
   ]
  },
  {
   "cell_type": "code",
   "execution_count": 1,
   "id": "05b46add-7206-4e9d-9bbc-69cbc1901892",
   "metadata": {},
   "outputs": [],
   "source": [
    "# Standard library imports\n",
    "import os\n",
    "\n",
    "# Third-party imports\n",
    "import numpy as np\n",
    "import pandas as pd\n",
    "import matplotlib.pyplot as plt\n",
    "from rdkit import Chem\n",
    "from rdkit.Chem import Descriptors\n",
    "\n",
    "# Local imports"
   ]
  },
  {
   "cell_type": "markdown",
   "id": "4c6b5b16-1716-419a-9b31-81cd68e948a3",
   "metadata": {},
   "source": [
    "# Look at ChemBL Data"
   ]
  },
  {
   "cell_type": "code",
   "execution_count": 2,
   "id": "f9dcc438-e603-4c13-a544-a200f541c347",
   "metadata": {},
   "outputs": [
    {
     "name": "stdout",
     "output_type": "stream",
     "text": [
      "     assay               target  target_id  num_activities  \\\n",
      "0   774749  Cytochrome P450 3A4      17045             871   \n",
      "1  1528855  Cytochrome P450 3A4      17045             190   \n",
      "2  1640603  Cytochrome P450 3A4      17045             165   \n",
      "3  1919651  Cytochrome P450 3A4      17045             106   \n",
      "4  1637154  Cytochrome P450 3A4      17045              85   \n",
      "\n",
      "                                          activities document  \n",
      "0  [{'molregno': 97, 'relation': None, 'value': N...      NaN  \n",
      "1  [{'molregno': 2032608, 'relation': '=', 'value...      NaN  \n",
      "2  [{'molregno': 2099593, 'relation': '>', 'value...      NaN  \n",
      "3  [{'molregno': 115, 'relation': '=', 'value': 1...      NaN  \n",
      "4  [{'molregno': 2099838, 'relation': '=', 'value...      NaN  \n"
     ]
    }
   ],
   "source": [
    "# Get json file path\n",
    "cur_dir = os.path.dirname(os.path.realpath('__file__'))\n",
    "json_path = f'{cur_dir}/data/chembl340_all_activities_annotated.json'\n",
    "\n",
    "# Load into DataFrame\n",
    "chembl_df = pd.read_json(json_path)\n",
    "print(chembl_df.head())"
   ]
  },
  {
   "cell_type": "code",
   "execution_count": 5,
   "id": "b12f2605-16aa-4c7b-b033-c526843d5e43",
   "metadata": {},
   "outputs": [
    {
     "name": "stdout",
     "output_type": "stream",
     "text": [
      "Number of unique targets: 1 \n",
      "Number of total rows: 2394\n",
      "\n",
      "Target: Cytochrome P450 3A4\n",
      "\n",
      "Number of entries with a document attached: 2344\n"
     ]
    }
   ],
   "source": [
    "# Investigate targets\n",
    "unique_targets = chembl_df.target.unique()\n",
    "print(\n",
    "    f'Number of unique targets: {len(unique_targets)}',\n",
    "    f'\\nNumber of total rows: {len(chembl_df)}'\n",
    ")\n",
    "\n",
    "# We see only one target\n",
    "print(f'\\nTarget: {unique_targets[0]}')\n",
    "\n",
    "# Investigate number of entries with a document listed\n",
    "chembl_with_doc_df = chembl_df[\n",
    "    chembl_df.document.notnull()\n",
    "].reset_index()\n",
    "print(f'\\nNumber of entries with a document attached: {len(chembl_with_doc_df)}')"
   ]
  },
  {
   "cell_type": "code",
   "execution_count": 6,
   "id": "b017c5fe-75c8-43c8-ac38-5f297566cd47",
   "metadata": {},
   "outputs": [
    {
     "name": "stdout",
     "output_type": "stream",
     "text": [
      "Information provided by document: ['doi', 'pmid', 'journal', 'abstract', 'stupid_response']\n",
      "\n",
      "Number of journals within supporting documents: 11\n",
      "Journal names: ['Bioorg Med Chem Lett' 'J Med Chem' 'Bioorg Med Chem' 'ACS Med Chem Lett'\n",
      " 'Eur J Med Chem' 'J Nat Prod' 'Drug Metab Dispos' 'Medchemcomm'\n",
      " 'Antimicrob Agents Chemother' 'RSC Med Chem' 'Med Chem Res']\n"
     ]
    }
   ],
   "source": [
    "# Look at the supporting documents\n",
    "docs = chembl_with_doc_df.document\n",
    "docs_df = pd.json_normalize(docs)\n",
    "print(f'Information provided by document: {docs_df.columns.tolist()}')\n",
    "\n",
    "# Journal information (suggesting similar criteria for acceptance)\n",
    "journals = docs_df.journal.dropna().unique()\n",
    "print(f'\\nNumber of journals within supporting documents: {len(journals)}')\n",
    "print(f'Journal names: {journals}')"
   ]
  },
  {
   "cell_type": "code",
   "execution_count": 7,
   "id": "9bbc4cc5-171c-486c-8915-ffe15017f564",
   "metadata": {},
   "outputs": [
    {
     "name": "stdout",
     "output_type": "stream",
     "text": [
      "Total number of activities for target: 10080\n",
      "   molregno relation  value units standard_type  \\\n",
      "0   1353266        =  0.084    uM          IC50   \n",
      "1   1353267        =  0.200    uM          IC50   \n",
      "2   1353268        =  0.180    uM          IC50   \n",
      "3   1353269        =  0.041    uM          IC50   \n",
      "4   1353270        =  0.028    uM          IC50   \n",
      "\n",
      "                                       compound_name  \\\n",
      "0  Thiazol-5-ylmethyl(2S,3R)-3-hydroxy-4-(N-methy...   \n",
      "1  thiazol-5-ylmethyl(2S,3R)-4-(2-(3-(dimethylami...   \n",
      "2  thiazol-5-ylmethyl(2S,3R)-4-(2-((2-(dimethylam...   \n",
      "3  Thiazol-5-ylmethyl(2S,3R)-3-hydroxy-4-(N-isobu...   \n",
      "4  Thiazol-5-ylmethyl(2S,3R)-4-(2-(ethylamino)-N-...   \n",
      "\n",
      "                                     compound_smiles  \n",
      "0  CN(C[C@@H](O)[C@H](Cc1ccccc1)NC(=O)OCc1cncs1)C...  \n",
      "1  CC(C)CN(C[C@@H](O)[C@H](Cc1ccccc1)NC(=O)OCc1cn...  \n",
      "2  CC(C)CN(C[C@@H](O)[C@H](Cc1ccccc1)NC(=O)OCc1cn...  \n",
      "3  CNc1nc2ccc(C(=O)N(CC(C)C)C[C@@H](O)[C@H](Cc3cc...  \n",
      "4  CCNc1nc2ccc(C(=O)N(CC(C)C)C[C@@H](O)[C@H](Cc3c...  \n"
     ]
    }
   ],
   "source": [
    "# Look at all datasets for activities\n",
    "activities = chembl_with_doc_df.activities.to_numpy().ravel().tolist()\n",
    "activities = [item for sublist in activities for item in sublist]\n",
    "\n",
    "# Create activities df\n",
    "activities_df = pd.json_normalize(activities)\n",
    "print(f'Total number of activities for target: {len(activities_df)}')\n",
    "print(activities_df.head())"
   ]
  },
  {
   "cell_type": "code",
   "execution_count": 8,
   "id": "d8703d02-e1e3-4ac9-b00c-5815cd4cf5d3",
   "metadata": {},
   "outputs": [],
   "source": [
    "# Get the molecular weight from a smiles string\n",
    "def calculate_mol_weight(smiles):\n",
    "    mol = Chem.MolFromSmiles(smiles)\n",
    "    return Descriptors.ExactMolWt(mol)\n",
    "\n",
    "# Known unit conversion factors\n",
    "unit_dict = {\n",
    "    'mM': 1e3,\n",
    "    'nM': 1e-3\n",
    "}\n",
    "\n",
    "# Function to get unit conversion factor\n",
    "def get_conversion_factor(unit, mol_weight=None):\n",
    "    if unit == 'ug ml-1':\n",
    "        return 1e3 / mol_weight\n",
    "    elif unit == 'mg/ml':\n",
    "        return 1e6 / mol_weight\n",
    "    else:\n",
    "        return unit_dict.get(unit)\n",
    "\n",
    "# Units to convert to\n",
    "desired_units = ['uM', '10^-6 mol/L', 'microM', 'umol/L']\n",
    "\n",
    "# Function to convert units\n",
    "def convert_units(row):\n",
    "    smiles, value, unit = row['smiles'], row['value'], row['unit']\n",
    "    \n",
    "    if unit in desired_units:\n",
    "        row['unit'] = desired_units[0]\n",
    "        return row\n",
    "    \n",
    "    mol_weight = calculate_mol_weight(smiles)\n",
    "    conversion_factor = get_conversion_factor(unit, mol_weight)\n",
    "    if conversion_factor:\n",
    "        row['value'] = value * conversion_factor\n",
    "        row['unit'] = desired_units[0]\n",
    "    \n",
    "    return row"
   ]
  },
  {
   "cell_type": "code",
   "execution_count": 9,
   "id": "19880d35-b2be-4d5f-9a31-e6cb59e71fb4",
   "metadata": {
    "scrolled": true
   },
   "outputs": [],
   "source": [
    "# Fix activities data\n",
    "activities_df.columns = [\n",
    "    'molregno', 'relation', 'value', 'unit', 'standard_type',\n",
    "    'compound_name', 'smiles'\n",
    "]\n",
    "\n",
    "# Allowed unit types\n",
    "allowed_units = [\n",
    "    'uM', '10^-6 mol/L', 'microM', 'umol/L', \n",
    "    'nM', 'mM', 'ug ml-1', # 'mg/ml'\n",
    "]\n",
    "\n",
    "# Remove incomplete rows\n",
    "activities_df = activities_df[\n",
    "    (activities_df['value'].notna()) &\n",
    "    (activities_df['value'] != 0) &\n",
    "    (activities_df['unit'].notna()) &\n",
    "    (activities_df['unit'].isin(allowed_units)) &\n",
    "    (activities_df['relation'].notna())\n",
    "]\n",
    "\n",
    "# Convert ic50 value to correct units\n",
    "activities_df = activities_df.apply(convert_units, axis=1)\n",
    "\n",
    "# Sort values\n",
    "activities_df = activities_df.sort_values(by='value', ascending=False)"
   ]
  },
  {
   "cell_type": "code",
   "execution_count": 10,
   "id": "4da2da6d-dadf-43e6-b803-fe7909d29351",
   "metadata": {
    "scrolled": true
   },
   "outputs": [
    {
     "name": "stdout",
     "output_type": "stream",
     "text": [
      "Columns: ['index', 'assay', 'target', 'target_id', 'num_activities', 'molregno', 'relation', 'value', 'unit', 'standard_type', 'compound_name', 'smiles', 'doi', 'pmid', 'journal', 'abstract', 'stupid_response']\n",
      "\n",
      "   index      assay               target  target_id  num_activities  \\\n",
      "0    8.0   828928.0  Cytochrome P450 3A4    17045.0            52.0   \n",
      "1    9.0   993439.0  Cytochrome P450 3A4    17045.0            53.0   \n",
      "2   10.0   823567.0  Cytochrome P450 3A4    17045.0            48.0   \n",
      "3   11.0  1707938.0  Cytochrome P450 3A4    17045.0            48.0   \n",
      "4   12.0  2246941.0  Cytochrome P450 3A4    17045.0            48.0   \n",
      "\n",
      "    molregno relation  value unit standard_type  \\\n",
      "0  1353266.0        =  0.084   uM          IC50   \n",
      "1  1353267.0        =  0.200   uM          IC50   \n",
      "2  1353268.0        =  0.180   uM          IC50   \n",
      "3  1353269.0        =  0.041   uM          IC50   \n",
      "4  1353270.0        =  0.028   uM          IC50   \n",
      "\n",
      "                                       compound_name  \\\n",
      "0  Thiazol-5-ylmethyl(2S,3R)-3-hydroxy-4-(N-methy...   \n",
      "1  thiazol-5-ylmethyl(2S,3R)-4-(2-(3-(dimethylami...   \n",
      "2  thiazol-5-ylmethyl(2S,3R)-4-(2-((2-(dimethylam...   \n",
      "3  Thiazol-5-ylmethyl(2S,3R)-3-hydroxy-4-(N-isobu...   \n",
      "4  Thiazol-5-ylmethyl(2S,3R)-4-(2-(ethylamino)-N-...   \n",
      "\n",
      "                                              smiles  \\\n",
      "0  CN(C[C@@H](O)[C@H](Cc1ccccc1)NC(=O)OCc1cncs1)C...   \n",
      "1  CC(C)CN(C[C@@H](O)[C@H](Cc1ccccc1)NC(=O)OCc1cn...   \n",
      "2  CC(C)CN(C[C@@H](O)[C@H](Cc1ccccc1)NC(=O)OCc1cn...   \n",
      "3  CNc1nc2ccc(C(=O)N(CC(C)C)C[C@@H](O)[C@H](Cc3cc...   \n",
      "4  CCNc1nc2ccc(C(=O)N(CC(C)C)C[C@@H](O)[C@H](Cc3c...   \n",
      "\n",
      "                            doi        pmid               journal  \\\n",
      "0    10.1016/j.bmcl.2012.06.022  22765892.0  Bioorg Med Chem Lett   \n",
      "1         10.6019/CHEMBL2448688         NaN                  None   \n",
      "2             10.1021/jm201542d  22364528.0            J Med Chem   \n",
      "3  10.1021/acs.jmedchem.7b01420  29350534.0            J Med Chem   \n",
      "4  10.1021/acs.jmedchem.1c02132  35261239.0            J Med Chem   \n",
      "\n",
      "                                            abstract  \\\n",
      "0  A new class of benzoxazole and benzothiazole a...   \n",
      "1  Inhibitors of Trypanosoma cruzi with novel mec...   \n",
      "2  The discovery of 1,3,8-triazaspiro[4.5]decane-...   \n",
      "3  CXCR4 is a seven-transmembrane receptor expres...   \n",
      "4  Recent mouse knockout studies identified adapt...   \n",
      "\n",
      "                                     stupid_response  \n",
      "0  There is no explicit description of the experi...  \n",
      "1                                                NaN  \n",
      "2                                                NaN  \n",
      "3                                                NaN  \n",
      "4                                                NaN  \n"
     ]
    }
   ],
   "source": [
    "# Combine data into an overall dataframe\n",
    "combined_df = pd.concat([\n",
    "    chembl_with_doc_df.drop(columns=['document', 'activities']), \n",
    "    activities_df,\n",
    "    docs_df\n",
    "], axis=1)\n",
    "print(f'Columns: {combined_df.columns.tolist()}\\n')\n",
    "print(combined_df.head())"
   ]
  },
  {
   "cell_type": "code",
   "execution_count": 11,
   "id": "f2e9c061-682f-4228-9234-47906460ca7b",
   "metadata": {},
   "outputs": [
    {
     "name": "stdout",
     "output_type": "stream",
     "text": [
      "count     3984.000000\n",
      "mean        84.232968\n",
      "std       1151.385925\n",
      "min          0.005000\n",
      "25%         10.000000\n",
      "50%         25.000000\n",
      "75%         40.250000\n",
      "max      50000.000000\n",
      "Name: value, dtype: float64\n",
      "count    156.000000\n",
      "mean       8.428385\n",
      "std       28.243117\n",
      "min        0.000100\n",
      "25%        0.100000\n",
      "50%        1.000000\n",
      "75%       10.000000\n",
      "max      200.000000\n",
      "Name: value, dtype: float64\n"
     ]
    }
   ],
   "source": [
    "# Investigate dois for relational data with < or >\n",
    "greater_than_df = combined_df[combined_df['relation'] == '>']\n",
    "less_than_df = combined_df[combined_df['relation'] == '<']\n",
    "\n",
    "# Compare these values to combined_df\n",
    "print(greater_than_df.value.describe())\n",
    "print(less_than_df.value.describe())"
   ]
  },
  {
   "cell_type": "code",
   "execution_count": 12,
   "id": "3468c54c-db5f-469c-b11a-e4f0444e40de",
   "metadata": {},
   "outputs": [
    {
     "name": "stdout",
     "output_type": "stream",
     "text": [
      "<class 'pandas.core.frame.DataFrame'>\n",
      "Index: 5118 entries, 8 to 5125\n",
      "Data columns (total 3 columns):\n",
      " #   Column     Non-Null Count  Dtype  \n",
      "---  ------     --------------  -----  \n",
      " 0   smiles     5118 non-null   object \n",
      " 1   value      5118 non-null   float64\n",
      " 2   log_value  5118 non-null   float64\n",
      "dtypes: float64(2), object(1)\n",
      "memory usage: 159.9+ KB\n"
     ]
    },
    {
     "data": {
      "text/html": [
       "<div>\n",
       "<style scoped>\n",
       "    .dataframe tbody tr th:only-of-type {\n",
       "        vertical-align: middle;\n",
       "    }\n",
       "\n",
       "    .dataframe tbody tr th {\n",
       "        vertical-align: top;\n",
       "    }\n",
       "\n",
       "    .dataframe thead th {\n",
       "        text-align: right;\n",
       "    }\n",
       "</style>\n",
       "<table border=\"1\" class=\"dataframe\">\n",
       "  <thead>\n",
       "    <tr style=\"text-align: right;\">\n",
       "      <th></th>\n",
       "      <th>smiles</th>\n",
       "      <th>value</th>\n",
       "      <th>log_value</th>\n",
       "    </tr>\n",
       "  </thead>\n",
       "  <tbody>\n",
       "    <tr>\n",
       "      <th>8</th>\n",
       "      <td>Cn1c(N2CCO[C@@H]3COC[C@H]32)nc(-c2ccncc2F)cc1=O</td>\n",
       "      <td>545.0</td>\n",
       "      <td>2.736397</td>\n",
       "    </tr>\n",
       "    <tr>\n",
       "      <th>9</th>\n",
       "      <td>CC(C)C[C@H](C=O)NC(=O)[C@@H](NS(=O)(=O)c1ccc(F...</td>\n",
       "      <td>531.0</td>\n",
       "      <td>2.725095</td>\n",
       "    </tr>\n",
       "    <tr>\n",
       "      <th>10</th>\n",
       "      <td>C[C@@H]1[C@@H](C)OCCN1c1nc(-c2ccncc2F)cc(=O)n1C</td>\n",
       "      <td>485.0</td>\n",
       "      <td>2.685742</td>\n",
       "    </tr>\n",
       "    <tr>\n",
       "      <th>11</th>\n",
       "      <td>c1ccc2nc(COc3ccc(-c4n[nH]cc4Cc4ccncc4)cc3)ccc2c1</td>\n",
       "      <td>450.0</td>\n",
       "      <td>2.653213</td>\n",
       "    </tr>\n",
       "    <tr>\n",
       "      <th>12</th>\n",
       "      <td>Cn1c(N2CCO[C@@H]3CCC[C@H]32)nc(-c2ccncc2F)cc1=O</td>\n",
       "      <td>445.0</td>\n",
       "      <td>2.648360</td>\n",
       "    </tr>\n",
       "  </tbody>\n",
       "</table>\n",
       "</div>"
      ],
      "text/plain": [
       "                                               smiles  value  log_value\n",
       "8     Cn1c(N2CCO[C@@H]3COC[C@H]32)nc(-c2ccncc2F)cc1=O  545.0   2.736397\n",
       "9   CC(C)C[C@H](C=O)NC(=O)[C@@H](NS(=O)(=O)c1ccc(F...  531.0   2.725095\n",
       "10    C[C@@H]1[C@@H](C)OCCN1c1nc(-c2ccncc2F)cc(=O)n1C  485.0   2.685742\n",
       "11   c1ccc2nc(COc3ccc(-c4n[nH]cc4Cc4ccncc4)cc3)ccc2c1  450.0   2.653213\n",
       "12    Cn1c(N2CCO[C@@H]3CCC[C@H]32)nc(-c2ccncc2F)cc1=O  445.0   2.648360"
      ]
     },
     "execution_count": 12,
     "metadata": {},
     "output_type": "execute_result"
    }
   ],
   "source": [
    "# Separate relational data based on previous findings\n",
    "df = activities_df.copy()\n",
    "df = df[df['relation'] == '=']\n",
    "df = df.reset_index(drop=True)\n",
    "\n",
    "# Save data for regression task\n",
    "df = df[['smiles', 'value']]\n",
    "df = df[df['value'] < 1000]\n",
    "df['log_value'] = df['value'].apply(np.log10)\n",
    "df.to_csv(f'{cur_dir}/data/regression.csv')\n",
    "df.info()\n",
    "df.head()"
   ]
  },
  {
   "cell_type": "code",
   "execution_count": null,
   "id": "38eb1d7e-0ddb-4fbc-aea2-4c13a3549009",
   "metadata": {},
   "outputs": [],
   "source": []
  },
  {
   "cell_type": "code",
   "execution_count": null,
   "id": "4ac603b9-c943-4a8b-8cbe-a87dd7d0a995",
   "metadata": {},
   "outputs": [],
   "source": []
  }
 ],
 "metadata": {
  "kernelspec": {
   "display_name": "Python 3 (ipykernel)",
   "language": "python",
   "name": "python3"
  },
  "language_info": {
   "codemirror_mode": {
    "name": "ipython",
    "version": 3
   },
   "file_extension": ".py",
   "mimetype": "text/x-python",
   "name": "python",
   "nbconvert_exporter": "python",
   "pygments_lexer": "ipython3",
   "version": "3.11.9"
  }
 },
 "nbformat": 4,
 "nbformat_minor": 5
}
