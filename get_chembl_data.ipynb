{
 "cells": [
  {
   "cell_type": "markdown",
   "id": "0734d98e-0f52-4ee8-8650-801091a4dc6b",
   "metadata": {},
   "source": [
    "# Imports"
   ]
  },
  {
   "cell_type": "code",
   "execution_count": 1,
   "id": "54357ad0-56ec-4c93-942c-478a56cb4abe",
   "metadata": {},
   "outputs": [
    {
     "name": "stdout",
     "output_type": "stream",
     "text": [
      "CUDA available: True\n"
     ]
    }
   ],
   "source": [
    "# Standard library imports\n",
    "import os\n",
    "import math\n",
    "from pathlib import Path\n",
    "\n",
    "# Third-party imports\n",
    "import sqlite3\n",
    "import pandas as pd\n",
    "from lightning import pytorch as pl\n",
    "import torch\n",
    "from chemprop import data, featurizers, models, nn\n",
    "from chembl_webresource_client.new_client import new_client\n",
    "\n",
    "# Local imports\n",
    "\n",
    "# CUDA\n",
    "print(f\"CUDA available: {torch.cuda.is_available()}\")\n",
    "os.environ['CUDA_VISIBLE_DEVICES'] = '7'"
   ]
  },
  {
   "cell_type": "markdown",
   "id": "a70eea99-b716-4c19-81a2-b0dd04dadb43",
   "metadata": {},
   "source": [
    "# Constants"
   ]
  },
  {
   "cell_type": "code",
   "execution_count": 2,
   "id": "2e3b1129-b2cd-46bb-a8d0-24b58de1602f",
   "metadata": {},
   "outputs": [],
   "source": [
    "# Directory\n",
    "CUR_DIR = os.path.dirname(os.path.realpath('__file__'))\n",
    "\n",
    "# Cytochrome P450 3A4 IDs\n",
    "CYP3A4_CHEMBL_ID = 'CHEMBL340' # ['CHEMBL2111472', 'CHEMBL2364675', 'CHEMBL4523986']\n",
    "CHEMBL_DB_PATH = '/data/rbg/users/vincentf/data_uncertainty/chembl_34/chembl_34/chembl_34_sqlite/chembl_34.db'"
   ]
  },
  {
   "cell_type": "markdown",
   "id": "8fbf2434-407d-4333-952d-bf346ee2a24b",
   "metadata": {},
   "source": [
    "# ChEMBL Database"
   ]
  },
  {
   "cell_type": "code",
   "execution_count": 48,
   "id": "f9b03cb2-e38d-43ee-8eed-9979f9e51fe0",
   "metadata": {},
   "outputs": [
    {
     "data": {
      "text/plain": [
       "<sqlite3.Cursor at 0x7f04ad11b540>"
      ]
     },
     "execution_count": 48,
     "metadata": {},
     "output_type": "execute_result"
    }
   ],
   "source": [
    "# Connect to chembl database\n",
    "conn = sqlite3.connect(CHEMBL_DB_PATH, timeout = 10)\n",
    "cur = conn.cursor()\n",
    "\n",
    "# Value types to extract\n",
    "value_types = ['IC50', 'IC5', 'Log IC50', 'pIC50', 'log(1/IC50)', '-Log IC50(M)', 'Ratio IC50', 'IC50(app)']\n",
    "placeholders = ','.join(['?'] * len(value_types))\n",
    "\n",
    "\n",
    "\n",
    "# Execute call\n",
    "cur.execute(query, (CYP3A4_CHEMBL_ID, *value_types))"
   ]
  },
  {
   "cell_type": "code",
   "execution_count": null,
   "id": "fb01d85d-5353-4a9e-8f51-542195860130",
   "metadata": {},
   "outputs": [],
   "source": [
    "# Query\n",
    "query = f'''\n",
    "    SELECT \n",
    "        targets.pref_name AS target_pref_name,\n",
    "        targets.chembl_id AS target_chembl_id,\n",
    "        activities.assay_id AS assay_id,\n",
    "        assays.chembl_id AS assay_chembl_id, \n",
    "        activities.standard_type AS value_type,\n",
    "        activities.standard_relation AS value_relation,\n",
    "        activities.standard_value AS value,\n",
    "        activities.standard_units AS value_units,\n",
    "        activities.molregno AS molregno,\n",
    "        assays.doc_id AS doc_chembl_id, \n",
    "        docs.doi AS doc_doi\n",
    "    FROM \n",
    "        activities\n",
    "    JOIN \n",
    "        assays ON activities.assay_id = assays.assay_id\n",
    "    JOIN \n",
    "        docs ON assays.doc_id = docs.doc_id\n",
    "    JOIN \n",
    "        target_dictionary AS targets ON assays.tid = targets.tid\n",
    "    WHERE \n",
    "        targets.chembl_id = ?\n",
    "        AND targets.target_type = 'SINGLE PROTEIN'\n",
    "        AND activities.standard_type IN ({placeholders})\n",
    "        AND activities.standard_value != 0\n",
    "        AND activities.standard_value IS NOT NULL\n",
    "    ORDER BY \n",
    "        activities.assay_id, value DESC\n",
    "'''\n",
    "\n",
    "# Connect to chembl databse\n",
    "conn = sqlite3.connect(CHEMBL_DB_PATH, timeout=10)\n",
    "conn.row_factory = sqlite3.Row\n",
    "cur = conn.cursor()\n",
    "\n",
    "# Execute query\n",
    "cur.execute(query, (CYP3A4_CHEMBL_ID, *value_types))\n",
    "\n",
    "# Fetch rows from the database\n",
    "rows = cur.fetchall()"
   ]
  },
  {
   "cell_type": "code",
   "execution_count": 49,
   "id": "d6321e2e-2e3c-4075-824a-3a2c783aeea8",
   "metadata": {},
   "outputs": [
    {
     "name": "stdout",
     "output_type": "stream",
     "text": [
      "('Cytochrome P450 3A4', 'CHEMBL340', 4333, 'CHEMBL883800', 'IC50', '=', 1260, 'nM', 255904, 11347, '10.1021/jm00093a015')\n"
     ]
    }
   ],
   "source": [
    "# Get column names (keys) from one of the rows and print the first row\n",
    "if rows:\n",
    "    # Get the column names\n",
    "    keys = rows[0].keys()\n",
    "    \n",
    "    # Print the column names (keys)\n",
    "    print(\"Column names:\", keys)\n",
    "    \n",
    "    # Print the first row as a dictionary\n",
    "    print(\"First row:\", dict(rows[0]))"
   ]
  },
  {
   "cell_type": "code",
   "execution_count": 51,
   "id": "3399e751-e9ba-4ade-b41a-a4fa1e40aac0",
   "metadata": {},
   "outputs": [
    {
     "name": "stdout",
     "output_type": "stream",
     "text": [
      "<class 'list'>\n"
     ]
    }
   ],
   "source": []
  },
  {
   "cell_type": "code",
   "execution_count": null,
   "id": "90addcc4-1d44-4363-8fc8-7e433f9efde9",
   "metadata": {},
   "outputs": [
    {
     "name": "stdout",
     "output_type": "stream",
     "text": [
      "Resource: activity...\n",
      "Resource: document...\n"
     ]
    }
   ],
   "source": [
    "# Get all available items in new_client\n",
    "available_resources = [resource for resource in dir(new_client) if not resource.startswith('_')]\n",
    "all_data = {}\n",
    "for resource in ['activity', 'document']:\n",
    "    print(f'Resource: {resource}...')\n",
    "    if resource not in all_data:\n",
    "        all_data[resource] = []\n",
    "        \n",
    "    # Get caller for resource\n",
    "    caller = getattr(new_client, resource)\n",
    "    \n",
    "    # Fetch data for the specified chembl_id\n",
    "    caller_data = []\n",
    "    for chembl_id in CYP3A4_CHEMBL_IDS:\n",
    "        try:\n",
    "            caller_data.extend(\n",
    "                caller.filter(\n",
    "                    target_chembl_id=chembl_id\n",
    "                )\n",
    "            )\n",
    "        except Exception as e:\n",
    "            print(f\"Error fetching data from {resource} for ID {chembl_id}: {e}\")\n",
    "    \n",
    "    # Append the data to the resource's list in all_data\n",
    "    all_data[resource].append(pd.DataFrame(caller_data))\n",
    "    \n",
    "pd.DataFrame(all_data).to_json(f'{CUR_DIR}/data/cyp3a4_data.json', orient='records')"
   ]
  },
  {
   "cell_type": "code",
   "execution_count": null,
   "id": "423435e0-bd9e-4ba6-a2d2-c5c99edce272",
   "metadata": {},
   "outputs": [],
   "source": []
  }
 ],
 "metadata": {
  "kernelspec": {
   "display_name": "Python 3 (ipykernel)",
   "language": "python",
   "name": "python3"
  },
  "language_info": {
   "codemirror_mode": {
    "name": "ipython",
    "version": 3
   },
   "file_extension": ".py",
   "mimetype": "text/x-python",
   "name": "python",
   "nbconvert_exporter": "python",
   "pygments_lexer": "ipython3",
   "version": "3.11.9"
  }
 },
 "nbformat": 4,
 "nbformat_minor": 5
}
