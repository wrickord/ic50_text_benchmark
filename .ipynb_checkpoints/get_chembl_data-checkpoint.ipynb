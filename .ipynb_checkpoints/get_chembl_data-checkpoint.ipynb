{
 "cells": [
  {
   "cell_type": "markdown",
   "id": "0734d98e-0f52-4ee8-8650-801091a4dc6b",
   "metadata": {},
   "source": [
    "# Imports"
   ]
  },
  {
   "cell_type": "code",
   "execution_count": 1,
   "id": "54357ad0-56ec-4c93-942c-478a56cb4abe",
   "metadata": {},
   "outputs": [
    {
     "name": "stdout",
     "output_type": "stream",
     "text": [
      "CUDA available: True\n"
     ]
    }
   ],
   "source": [
    "# Standard library imports\n",
    "import os\n",
    "import math\n",
    "\n",
    "# Third-party imports\n",
    "import sqlite3\n",
    "import numpy as np\n",
    "import pandas as pd\n",
    "import torch\n",
    "\n",
    "# Local imports\n",
    "\n",
    "# CUDA\n",
    "print(f\"CUDA available: {torch.cuda.is_available()}\")\n",
    "os.environ['CUDA_VISIBLE_DEVICES'] = '6'"
   ]
  },
  {
   "cell_type": "markdown",
   "id": "a70eea99-b716-4c19-81a2-b0dd04dadb43",
   "metadata": {},
   "source": [
    "# Constants"
   ]
  },
  {
   "cell_type": "code",
   "execution_count": 2,
   "id": "2e3b1129-b2cd-46bb-a8d0-24b58de1602f",
   "metadata": {},
   "outputs": [],
   "source": [
    "# Directory\n",
    "CUR_DIR = os.path.dirname(os.path.realpath('__file__'))\n",
    "\n",
    "# Cytochrome P450 3A4 IDs\n",
    "CYP3A4_CHEMBL_ID = 'CHEMBL340' # ['CHEMBL2111472', 'CHEMBL2364675', 'CHEMBL4523986']\n",
    "CHEMBL_DB_PATH = '/data/rbg/users/vincentf/data_uncertainty/chembl_34/chembl_34/chembl_34_sqlite/chembl_34.db'"
   ]
  },
  {
   "cell_type": "markdown",
   "id": "8fbf2434-407d-4333-952d-bf346ee2a24b",
   "metadata": {},
   "source": [
    "# ChEMBL Database"
   ]
  },
  {
   "cell_type": "code",
   "execution_count": 3,
   "id": "9c6d3c4e-f473-44e3-939e-fb6aa5dccca1",
   "metadata": {},
   "outputs": [],
   "source": [
    "# Connect to chembl databse\n",
    "conn = sqlite3.connect(CHEMBL_DB_PATH, timeout=10)\n",
    "conn.row_factory = sqlite3.Row\n",
    "cur = conn.cursor()"
   ]
  },
  {
   "cell_type": "code",
   "execution_count": 4,
   "id": "fb01d85d-5353-4a9e-8f51-542195860130",
   "metadata": {},
   "outputs": [],
   "source": [
    "# Value types to extract\n",
    "value_types = ['IC50', 'IC5', 'Log IC50', 'pIC50', 'log(1/IC50)', '-Log IC50(M)', 'Ratio IC50', 'IC50(app)']\n",
    "placeholders = ','.join(['?'] * len(value_types))\n",
    "\n",
    "# Query\n",
    "query = f'''\n",
    "    SELECT \n",
    "        targets.pref_name AS target,\n",
    "        targets.chembl_id AS target_id,\n",
    "        assays.chembl_id AS assay_id, \n",
    "        compound_structures.canonical_smiles AS smiles,\n",
    "        activities.standard_type AS type,\n",
    "        activities.standard_relation AS relation,\n",
    "        activities.standard_value AS value,\n",
    "        activities.standard_units AS unit,\n",
    "        activities.molregno AS molregno,\n",
    "        assays.doc_id AS doc_id,\n",
    "        docs.journal AS journal,\n",
    "        docs.doi AS doi,\n",
    "        assays.description AS description,\n",
    "        assays.assay_type AS assay_type, \n",
    "        assays.assay_test_type AS assay_test_type, \n",
    "        assays.assay_organism AS assay_organism, \n",
    "        assays.assay_tissue AS assay_tissue, \n",
    "        assays.assay_cell_type AS assay_cell_type, \n",
    "        assays.confidence_score AS assay_confidence_score, \n",
    "        activities.data_validity_comment AS data_validity_comment\n",
    "    FROM \n",
    "        activities\n",
    "    JOIN \n",
    "        target_dictionary AS targets ON assays.tid = targets.tid\n",
    "    JOIN \n",
    "        assays ON activities.assay_id = assays.assay_id\n",
    "    JOIN\n",
    "        compound_structures USING (molregno)\n",
    "    JOIN \n",
    "        docs ON assays.doc_id = docs.doc_id\n",
    "    WHERE \n",
    "        targets.chembl_id = ?\n",
    "        AND targets.target_type = 'SINGLE PROTEIN'\n",
    "        AND activities.standard_type IN ({placeholders})\n",
    "        AND activities.standard_value != 0\n",
    "        AND activities.standard_value IS NOT NULL\n",
    "    ORDER BY \n",
    "        activities.assay_id, value DESC\n",
    "'''\n",
    "\n",
    "# Execute query\n",
    "cur.execute(query, (CYP3A4_CHEMBL_ID, *value_types))\n",
    "\n",
    "# Fetch rows from the database\n",
    "rows = cur.fetchall()"
   ]
  },
  {
   "cell_type": "code",
   "execution_count": 5,
   "id": "87a7690e-ecf4-461e-a1af-aca1cbbeb995",
   "metadata": {},
   "outputs": [],
   "source": [
    "# Save as dataframe\n",
    "data = [dict(row) for row in rows]\n",
    "df = pd.DataFrame(data)\n",
    "df.to_json(f'{CUR_DIR}/data/chembl_data.json', orient='records')"
   ]
  },
  {
   "cell_type": "code",
   "execution_count": 6,
   "id": "d6321e2e-2e3c-4075-824a-3a2c783aeea8",
   "metadata": {},
   "outputs": [
    {
     "name": "stdout",
     "output_type": "stream",
     "text": [
      "target :  Cytochrome P450 3A4\n",
      "target_id :  CHEMBL340\n",
      "assay_id :  CHEMBL883800\n",
      "smiles :  CC(=O)N1CCN(c2ccc(OCC3COC(Cn4ccnc4)(c4ccc(Cl)cc4Cl)O3)cc2)CC1\n",
      "type :  IC50\n",
      "relation :  =\n",
      "value :  1260\n",
      "unit :  nM\n",
      "molregno :  255904\n",
      "doc_id :  11347\n",
      "journal :  J Med Chem\n",
      "doi :  10.1021/jm00093a015\n",
      "description :  Inhibition of progesterone 6-beta-hydroxylase in rat hepatic microsomes\n",
      "assay_type :  A\n",
      "assay_test_type :  None\n",
      "assay_organism :  Rattus norvegicus\n",
      "assay_tissue :  Liver\n",
      "assay_cell_type :  None\n",
      "assay_confidence_score :  8\n",
      "data_validity_comment :  None\n"
     ]
    }
   ],
   "source": [
    "# Example\n",
    "for key, value in dict(rows[0]).items():\n",
    "    print(key, ': ', value)"
   ]
  },
  {
   "cell_type": "code",
   "execution_count": null,
   "id": "6b643fdd-bf04-4b93-a2ab-036fb7a9464c",
   "metadata": {},
   "outputs": [],
   "source": []
  }
 ],
 "metadata": {
  "kernelspec": {
   "display_name": "Python 3 (ipykernel)",
   "language": "python",
   "name": "python3"
  },
  "language_info": {
   "codemirror_mode": {
    "name": "ipython",
    "version": 3
   },
   "file_extension": ".py",
   "mimetype": "text/x-python",
   "name": "python",
   "nbconvert_exporter": "python",
   "pygments_lexer": "ipython3",
   "version": "3.11.9"
  }
 },
 "nbformat": 4,
 "nbformat_minor": 5
}
