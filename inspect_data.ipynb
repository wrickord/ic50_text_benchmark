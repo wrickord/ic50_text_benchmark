{
 "cells": [
  {
   "cell_type": "markdown",
   "id": "09c606d4-dce0-442c-8433-c431e30203ec",
   "metadata": {},
   "source": [
    "# Imports"
   ]
  },
  {
   "cell_type": "code",
   "execution_count": 36,
   "id": "05b46add-7206-4e9d-9bbc-69cbc1901892",
   "metadata": {},
   "outputs": [],
   "source": [
    "# Standard library imports\n",
    "import os\n",
    "\n",
    "# Third-party imports\n",
    "import numpy as np\n",
    "import pandas as pd\n",
    "import matplotlib.pyplot as plt\n",
    "from rdkit import Chem\n",
    "from rdkit.Chem import Descriptors\n",
    "\n",
    "# Local imports"
   ]
  },
  {
   "cell_type": "markdown",
   "id": "4c6b5b16-1716-419a-9b31-81cd68e948a3",
   "metadata": {},
   "source": [
    "# Look at ChemBL Data"
   ]
  },
  {
   "cell_type": "code",
   "execution_count": 37,
   "id": "f9dcc438-e603-4c13-a544-a200f541c347",
   "metadata": {},
   "outputs": [
    {
     "name": "stdout",
     "output_type": "stream",
     "text": [
      "Number of unique targets: 1 \n",
      "Number of total rows: 2394\n",
      "\n",
      "Target: Cytochrome P450 3A4\n",
      "\n",
      "Number of entries with a document attached: 2344\n",
      "Information provided by document: ['doi', 'pmid', 'journal', 'abstract', 'stupid_response']\n",
      "\n",
      "Number of journals within supporting documents: 11\n",
      "Journal names: ['Bioorg Med Chem Lett' 'J Med Chem' 'Bioorg Med Chem' 'ACS Med Chem Lett'\n",
      " 'Eur J Med Chem' 'J Nat Prod' 'Drug Metab Dispos' 'Medchemcomm'\n",
      " 'Antimicrob Agents Chemother' 'RSC Med Chem' 'Med Chem Res']\n"
     ]
    }
   ],
   "source": [
    "# Get json file path\n",
    "cur_dir = os.path.dirname(os.path.realpath('__file__'))\n",
    "json_path = f'{cur_dir}/data/chembl340_all_activities_annotated.json'\n",
    "\n",
    "# Load into DataFrame\n",
    "chembl_df = pd.read_json(json_path)\n",
    "\n",
    "# Investigate targets\n",
    "unique_targets = chembl_df.target.unique()\n",
    "print(\n",
    "    f'Number of unique targets: {len(unique_targets)}',\n",
    "    f'\\nNumber of total rows: {len(chembl_df)}'\n",
    ")\n",
    "\n",
    "# We see only one target\n",
    "print(f'\\nTarget: {unique_targets[0]}')\n",
    "\n",
    "# Investigate number of entries with a document listed\n",
    "chembl_with_doc_df = chembl_df[\n",
    "    (chembl_df.document.notnull()) &\n",
    "    (chembl_df.target == unique_targets[0])\n",
    "].reset_index(drop=True)\n",
    "chembl_with_doc_df['original_index'] = np.arange(len(chembl_with_doc_df))\n",
    "print(f'\\nNumber of entries with a document attached: {len(chembl_with_doc_df)}')\n",
    "chembl_with_doc_df.to_json(f'{cur_dir}/data/chembl_CYP3A4_with_doi.json', orient='records')\n",
    "\n",
    "# Look at the supporting documents\n",
    "docs = chembl_with_doc_df.document\n",
    "docs_df = pd.json_normalize(docs)\n",
    "print(f'Information provided by document: {docs_df.columns.tolist()}')\n",
    "\n",
    "# Journal information (suggesting similar criteria for acceptance)\n",
    "journals = docs_df.journal.dropna().unique()\n",
    "print(f'\\nNumber of journals within supporting documents: {len(journals)}')\n",
    "print(f'Journal names: {journals}')"
   ]
  },
  {
   "cell_type": "code",
   "execution_count": 40,
   "id": "f7852c55-1678-4c9d-8db0-5763bb86bfa2",
   "metadata": {},
   "outputs": [
    {
     "name": "stdout",
     "output_type": "stream",
     "text": [
      "Total number of activities for target: 5126\n"
     ]
    }
   ],
   "source": [
    "# Extract activities and preserve original indices\n",
    "activities = chembl_with_doc_df.activities.to_numpy().ravel().tolist()\n",
    "\n",
    "# Flatten the list of activities while preserving indices\n",
    "flattened_activities, original_indices, activity_indices = [], [], []\n",
    "for index, sublist in enumerate(activities):\n",
    "    for activity_index, item in enumerate(sublist):\n",
    "        flattened_activities.append(item)\n",
    "        original_indices.append(index)\n",
    "        activity_indices.append(activity_index)\n",
    "        \n",
    "activities_df = pd.DataFrame(flattened_activities)\n",
    "activities_df['original_index'] = original_indices\n",
    "activities_df['activity_index'] = activity_indices\n",
    "\n",
    "# Get the molecular weight from a smiles string\n",
    "def calculate_mol_weight(smiles):\n",
    "    mol = Chem.MolFromSmiles(smiles)\n",
    "    return Descriptors.ExactMolWt(mol)\n",
    "\n",
    "# Known unit conversion factors\n",
    "unit_dict = {\n",
    "    'mM': 1e3,\n",
    "    'nM': 1e-3\n",
    "}\n",
    "\n",
    "# Function to get unit conversion factor\n",
    "def get_conversion_factor(unit, mol_weight=None):\n",
    "    if unit == 'ug ml-1':\n",
    "        return 1e3 / mol_weight\n",
    "    elif unit == 'mg/ml':\n",
    "        return 1e6 / mol_weight\n",
    "    else:\n",
    "        return unit_dict.get(unit)\n",
    "\n",
    "# Units to convert to\n",
    "desired_units = ['uM', '10^-6 mol/L', 'microM', 'umol/L']\n",
    "\n",
    "# Function to convert units\n",
    "def convert_units(row):\n",
    "    smiles, value, unit = row['smiles'], row['value'], row['unit']\n",
    "    \n",
    "    if unit in desired_units:\n",
    "        row['unit'] = desired_units[0]\n",
    "        return row\n",
    "    \n",
    "    mol_weight = calculate_mol_weight(smiles)\n",
    "    conversion_factor = get_conversion_factor(unit, mol_weight)\n",
    "    if conversion_factor:\n",
    "        row['value'] = value * conversion_factor\n",
    "        row['unit'] = desired_units[0]\n",
    "    \n",
    "    return row\n",
    "\n",
    "# Fix activities data\n",
    "activities_df.columns = [\n",
    "    'molregno', 'relation', 'value', 'unit', \n",
    "    'standard_type', 'compound_name', 'smiles',\n",
    "    'original_index', 'activity_index'\n",
    "]\n",
    "\n",
    "# Allowed unit types\n",
    "allowed_units = [\n",
    "    'uM', '10^-6 mol/L', 'microM', 'umol/L', \n",
    "    'nM', 'mM', 'ug ml-1', # 'mg/ml'\n",
    "]\n",
    "\n",
    "# Remove incomplete rows\n",
    "activities_df = activities_df[\n",
    "    (activities_df['value'].notna()) &\n",
    "    (activities_df['value'] != 0) &\n",
    "    (activities_df['unit'].notna()) &\n",
    "    (activities_df['unit'].isin(allowed_units)) &\n",
    "    (activities_df['relation'].notna()) &\n",
    "    (activities_df['relation'] == '=')\n",
    "]\n",
    "\n",
    "# Convert ic50 value to correct units\n",
    "activities_df = activities_df.apply(convert_units, axis=1)\n",
    "\n",
    "print(f'Total number of activities for target: {len(activities_df)}')"
   ]
  },
  {
   "cell_type": "code",
   "execution_count": 41,
   "id": "4da2da6d-dadf-43e6-b803-fe7909d29351",
   "metadata": {
    "scrolled": true
   },
   "outputs": [
    {
     "name": "stdout",
     "output_type": "stream",
     "text": [
      "Columns: ['molregno', 'relation', 'value', 'unit', 'standard_type', 'compound_name', 'smiles', 'original_index', 'activity_index', 'assay', 'target', 'target_id', 'num_activities', 'doi', 'pmid', 'journal', 'abstract', 'stupid_response']\n",
      "\n",
      "   molregno relation  value unit standard_type  \\\n",
      "0   1353266        =  0.084   uM          IC50   \n",
      "1   1353267        =  0.200   uM          IC50   \n",
      "2   1353268        =  0.180   uM          IC50   \n",
      "3   1353269        =  0.041   uM          IC50   \n",
      "4   1353270        =  0.028   uM          IC50   \n",
      "\n",
      "                                       compound_name  \\\n",
      "0  Thiazol-5-ylmethyl(2S,3R)-3-hydroxy-4-(N-methy...   \n",
      "1  thiazol-5-ylmethyl(2S,3R)-4-(2-(3-(dimethylami...   \n",
      "2  thiazol-5-ylmethyl(2S,3R)-4-(2-((2-(dimethylam...   \n",
      "3  Thiazol-5-ylmethyl(2S,3R)-3-hydroxy-4-(N-isobu...   \n",
      "4  Thiazol-5-ylmethyl(2S,3R)-4-(2-(ethylamino)-N-...   \n",
      "\n",
      "                                              smiles  original_index  \\\n",
      "0  CN(C[C@@H](O)[C@H](Cc1ccccc1)NC(=O)OCc1cncs1)C...               0   \n",
      "1  CC(C)CN(C[C@@H](O)[C@H](Cc1ccccc1)NC(=O)OCc1cn...               0   \n",
      "2  CC(C)CN(C[C@@H](O)[C@H](Cc1ccccc1)NC(=O)OCc1cn...               0   \n",
      "3  CNc1nc2ccc(C(=O)N(CC(C)C)C[C@@H](O)[C@H](Cc3cc...               0   \n",
      "4  CCNc1nc2ccc(C(=O)N(CC(C)C)C[C@@H](O)[C@H](Cc3c...               0   \n",
      "\n",
      "   activity_index   assay               target  target_id  num_activities  \\\n",
      "0               0  828928  Cytochrome P450 3A4      17045              52   \n",
      "1               1  828928  Cytochrome P450 3A4      17045              52   \n",
      "2               2  828928  Cytochrome P450 3A4      17045              52   \n",
      "3               3  828928  Cytochrome P450 3A4      17045              52   \n",
      "4               4  828928  Cytochrome P450 3A4      17045              52   \n",
      "\n",
      "                          doi        pmid               journal  \\\n",
      "0  10.1016/j.bmcl.2012.06.022  22765892.0  Bioorg Med Chem Lett   \n",
      "1  10.1016/j.bmcl.2012.06.022  22765892.0  Bioorg Med Chem Lett   \n",
      "2  10.1016/j.bmcl.2012.06.022  22765892.0  Bioorg Med Chem Lett   \n",
      "3  10.1016/j.bmcl.2012.06.022  22765892.0  Bioorg Med Chem Lett   \n",
      "4  10.1016/j.bmcl.2012.06.022  22765892.0  Bioorg Med Chem Lett   \n",
      "\n",
      "                                            abstract  \\\n",
      "0  A new class of benzoxazole and benzothiazole a...   \n",
      "1  A new class of benzoxazole and benzothiazole a...   \n",
      "2  A new class of benzoxazole and benzothiazole a...   \n",
      "3  A new class of benzoxazole and benzothiazole a...   \n",
      "4  A new class of benzoxazole and benzothiazole a...   \n",
      "\n",
      "                                     stupid_response  \n",
      "0  There is no explicit description of the experi...  \n",
      "1  There is no explicit description of the experi...  \n",
      "2  There is no explicit description of the experi...  \n",
      "3  There is no explicit description of the experi...  \n",
      "4  There is no explicit description of the experi...  \n"
     ]
    }
   ],
   "source": [
    "# Combine data into an overall dataframe\n",
    "combined_df = pd.concat([\n",
    "    chembl_with_doc_df.drop(columns=['document', 'activities']), \n",
    "    docs_df\n",
    "], axis=1).reset_index(drop=True)\n",
    "combined_df = pd.merge(activities_df, combined_df, how='left', left_on='original_index', right_on='original_index')\n",
    "\n",
    "print(f'Columns: {combined_df.columns.tolist()}\\n')\n",
    "print(combined_df.head())"
   ]
  },
  {
   "cell_type": "code",
   "execution_count": 62,
   "id": "3468c54c-db5f-469c-b11a-e4f0444e40de",
   "metadata": {},
   "outputs": [],
   "source": [
    "# Get df to save\n",
    "df = combined_df.copy()\n",
    "df = df[df['value'] < 1000]\n",
    "df['log_value'] = df['value'].apply(np.log10)\n",
    "\n",
    "# Save data for regression task\n",
    "df.to_csv(f'{cur_dir}/data/regression.csv')\n",
    "df.to_json(f'{cur_dir}/data/regression.json', orient='records')"
   ]
  },
  {
   "cell_type": "code",
   "execution_count": 63,
   "id": "4ac603b9-c943-4a8b-8cbe-a87dd7d0a995",
   "metadata": {},
   "outputs": [
    {
     "name": "stdout",
     "output_type": "stream",
     "text": [
      "Number of entries for journal:\n",
      "\tBioorg Med Chem Lett: 2220\n",
      "\tJ Med Chem: 1917\n",
      "\tBioorg Med Chem: 247\n",
      "\tACS Med Chem Lett: 282\n",
      "\tEur J Med Chem: 189\n",
      "\tJ Nat Prod: 61\n",
      "\tDrug Metab Dispos: 80\n",
      "\tMedchemcomm: 24\n",
      "\tAntimicrob Agents Chemother: 2\n",
      "\tRSC Med Chem: 6\n",
      "\tMed Chem Res: 0\n"
     ]
    }
   ],
   "source": [
    "# Look at the number of entries per journal\n",
    "print('Number of entries for journal:')\n",
    "for journal in journals:\n",
    "    print(f'\\t{journal}: {len(df[df[\"journal\"] == journal])}')"
   ]
  },
  {
   "cell_type": "code",
   "execution_count": 65,
   "id": "cc6f9571-f3e7-44f1-8061-bcbd4ef44d0f",
   "metadata": {},
   "outputs": [
    {
     "name": "stdout",
     "output_type": "stream",
     "text": [
      "Index(['molregno', 'relation', 'value', 'unit', 'standard_type',\n",
      "       'compound_name', 'smiles', 'original_index', 'activity_index', 'assay',\n",
      "       'target', 'target_id', 'num_activities', 'doi', 'pmid', 'journal',\n",
      "       'abstract', 'stupid_response', 'log_value'],\n",
      "      dtype='object')\n"
     ]
    }
   ],
   "source": [
    "print(df.columns)"
   ]
  },
  {
   "cell_type": "code",
   "execution_count": 81,
   "id": "79d1bad5-8772-48a6-bfdb-86111d0d5045",
   "metadata": {},
   "outputs": [],
   "source": [
    "duplicates_df = df[df.duplicated(['compound_name', 'smiles'])].sort_values(by='compound_name')\n",
    "duplicates_df.to_csv('duplicates.csv')"
   ]
  },
  {
   "cell_type": "code",
   "execution_count": null,
   "id": "1b6b7d87-e375-48cb-b91b-97dd58c0f842",
   "metadata": {},
   "outputs": [],
   "source": [
    "'''\n",
    "\tdoi\n",
    "1\t10.1016/s0960-894x(98)00653-2\n",
    "2\t10.1016/j.bmc.2020.115349\n",
    "3\t10.1021/jm400288z\n",
    "4\t10.1016/j.bmcl.2012.03.070\n",
    "5\t10.1021/jm021012t\n",
    "'''"
   ]
  }
 ],
 "metadata": {
  "kernelspec": {
   "display_name": "Python 3 (ipykernel)",
   "language": "python",
   "name": "python3"
  },
  "language_info": {
   "codemirror_mode": {
    "name": "ipython",
    "version": 3
   },
   "file_extension": ".py",
   "mimetype": "text/x-python",
   "name": "python",
   "nbconvert_exporter": "python",
   "pygments_lexer": "ipython3",
   "version": "3.11.9"
  }
 },
 "nbformat": 4,
 "nbformat_minor": 5
}
