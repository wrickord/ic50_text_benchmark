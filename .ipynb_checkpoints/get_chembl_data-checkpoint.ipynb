{
 "cells": [
  {
   "cell_type": "markdown",
   "id": "0734d98e-0f52-4ee8-8650-801091a4dc6b",
   "metadata": {},
   "source": [
    "# Imports"
   ]
  },
  {
   "cell_type": "code",
   "execution_count": 71,
   "id": "54357ad0-56ec-4c93-942c-478a56cb4abe",
   "metadata": {},
   "outputs": [
    {
     "name": "stdout",
     "output_type": "stream",
     "text": [
      "CUDA available: True\n"
     ]
    }
   ],
   "source": [
    "# Standard library imports\n",
    "import os\n",
    "import math\n",
    "from pathlib import Path\n",
    "\n",
    "# Third-party imports\n",
    "import pandas as pd\n",
    "from lightning import pytorch as pl\n",
    "import torch\n",
    "from chemprop import data, featurizers, models, nn\n",
    "from chembl_webresource_client.new_client import new_client\n",
    "\n",
    "# Local imports\n",
    "\n",
    "# CUDA\n",
    "print(f\"CUDA available: {torch.cuda.is_available()}\")\n",
    "os.environ['CUDA_VISIBLE_DEVICES'] = '7'"
   ]
  },
  {
   "cell_type": "markdown",
   "id": "a70eea99-b716-4c19-81a2-b0dd04dadb43",
   "metadata": {},
   "source": [
    "# Constants"
   ]
  },
  {
   "cell_type": "code",
   "execution_count": 72,
   "id": "2e3b1129-b2cd-46bb-a8d0-24b58de1602f",
   "metadata": {},
   "outputs": [],
   "source": [
    "# Directory\n",
    "CUR_DIR = os.path.dirname(os.path.realpath('__file__'))\n",
    "\n",
    "# Cytochrome P450 3A4 IDs\n",
    "CYP3A4_CHEMBL_IDS = ['CHEMBL340', 'CHEMBL2111472', 'CHEMBL2364675', 'CHEMBL4523986']"
   ]
  },
  {
   "cell_type": "markdown",
   "id": "8fbf2434-407d-4333-952d-bf346ee2a24b",
   "metadata": {},
   "source": [
    "# ChEMBL Database"
   ]
  },
  {
   "cell_type": "code",
   "execution_count": 95,
   "id": "90addcc4-1d44-4363-8fc8-7e433f9efde9",
   "metadata": {},
   "outputs": [
    {
     "name": "stdout",
     "output_type": "stream",
     "text": [
      "Resource: activity\n",
      "                                            activity\n",
      "0        action_type activity_comment  activity_i...\n"
     ]
    }
   ],
   "source": [
    "# Get all available items in new_client\n",
    "available_resources = [resource for resource in dir(new_client) if not resource.startswith('_')]\n",
    "all_data = {}\n",
    "for resource in available_resources:\n",
    "    print(f'Resource: {resource}')\n",
    "    if resource not in all_data:\n",
    "        all_data[resource] = []\n",
    "        \n",
    "    # Get caller for resource\n",
    "    caller = getattr(new_client, resource)\n",
    "    caller_data = caller.filter(\n",
    "        target_chembl_id=chembl_id,\n",
    "        type='IC50'\n",
    "    )\n",
    "    \n",
    "    # Fetch data for the specified chembl_id\n",
    "    caller_data = []\n",
    "    for chembl_id in CYP3A4_CHEMBL_IDS:\n",
    "        caller_data.extend(caller.filter(target_chembl_id=chembl_id))\n",
    "    \n",
    "    # Append the data to the resource's list in all_data\n",
    "    all_data[resource].append(pd.DataFrame(caller_data))\n",
    "\n",
    "    all_data = pd.DataFrame(all_data)\n",
    "    all_data.to_json('hi.json', orient='records')\n",
    "    print(all_data)\n",
    "    break\n",
    "    \n",
    "    # for chembl_id in CYP3A4_CHEMBL_IDS:\n",
    "    #     try:\n",
    "            \n",
    "    #         id_data[cyp3a4_id] = caller_data\n",
    "    #     except:\n",
    "    #         pass\n",
    "    # all_data[resource] = id_data\n",
    "    # except Exception as e:\n",
    "        # print(f\"Error fetching data from {resource}: {e}\")\n",
    "\n",
    "# # Convert the collected data into a DataFrame\n",
    "# df = pd.concat(\n",
    "#     {k: pd.DataFrame(v) for k, v in all_data.items() if isinstance(v, dict)}, \n",
    "#     axis=0\n",
    "# )\n",
    "# print(df.head())"
   ]
  },
  {
   "cell_type": "code",
   "execution_count": 70,
   "id": "dc0236d9-d150-488a-a851-a965bc512b8d",
   "metadata": {},
   "outputs": [
    {
     "ename": "NameError",
     "evalue": "name 'chembl_ids_cyp3a4' is not defined",
     "output_type": "error",
     "traceback": [
      "\u001b[0;31m---------------------------------------------------------------------------\u001b[0m",
      "\u001b[0;31mNameError\u001b[0m                                 Traceback (most recent call last)",
      "Cell \u001b[0;32mIn[70], line 3\u001b[0m\n\u001b[1;32m      1\u001b[0m \u001b[38;5;66;03m# Initialize the lookup client & fetch\u001b[39;00m\n\u001b[1;32m      2\u001b[0m lookup \u001b[38;5;241m=\u001b[39m new_client\u001b[38;5;241m.\u001b[39mchembl_id_lookup\n\u001b[0;32m----> 3\u001b[0m lookup_data \u001b[38;5;241m=\u001b[39m [lookup\u001b[38;5;241m.\u001b[39mget(chembl_id) \u001b[38;5;28;01mfor\u001b[39;00m chembl_id \u001b[38;5;129;01min\u001b[39;00m \u001b[43mchembl_ids_cyp3a4\u001b[49m]\n\u001b[1;32m      5\u001b[0m \u001b[38;5;66;03m# Collect all data with those IDs\u001b[39;00m\n\u001b[1;32m      6\u001b[0m target \u001b[38;5;241m=\u001b[39m new_client\u001b[38;5;241m.\u001b[39mtarget\n",
      "\u001b[0;31mNameError\u001b[0m: name 'chembl_ids_cyp3a4' is not defined"
     ]
    }
   ],
   "source": [
    "# Initialize the lookup client & fetch\n",
    "lookup = new_client.chembl_id_lookup\n",
    "lookup_data = [lookup.get(chembl_id) for chembl_id in chembl_ids_cyp3a4]\n",
    "\n",
    "# Collect all data with those IDs\n",
    "target = new_client.target\n",
    "target_data = [target.get(chembl_id) for chembl_id in chembl_ids_cyp3a4]\n",
    "df = pd.DataFrame(target_data)\n",
    "print(df.head())"
   ]
  },
  {
   "cell_type": "code",
   "execution_count": null,
   "id": "860627ee-d453-49b1-a148-33e711d0f3d9",
   "metadata": {},
   "outputs": [],
   "source": [
    "# Get bioactivities\n",
    "activities = new_client.activity\n",
    "activities_data = [\n",
    "    activities.filter(\n",
    "        target_chembl_id=chembl_id\n",
    "    ) for chembl_id in chembl_ids_cyp3a4\n",
    "]\n",
    "df = pd.DataFrame(activities_data)\n",
    "print(df.head())"
   ]
  },
  {
   "cell_type": "code",
   "execution_count": null,
   "id": "f4fe1979-a720-4691-9656-531a6ad982a5",
   "metadata": {},
   "outputs": [],
   "source": [
    "df.to_json(f'{cur_dir}/data/cyp3a4_data.json')"
   ]
  },
  {
   "cell_type": "code",
   "execution_count": null,
   "id": "2ba35793-4307-4bc5-bdf3-175f6b4aa910",
   "metadata": {},
   "outputs": [],
   "source": []
  }
 ],
 "metadata": {
  "kernelspec": {
   "display_name": "Python 3 (ipykernel)",
   "language": "python",
   "name": "python3"
  },
  "language_info": {
   "codemirror_mode": {
    "name": "ipython",
    "version": 3
   },
   "file_extension": ".py",
   "mimetype": "text/x-python",
   "name": "python",
   "nbconvert_exporter": "python",
   "pygments_lexer": "ipython3",
   "version": "3.11.9"
  }
 },
 "nbformat": 4,
 "nbformat_minor": 5
}
