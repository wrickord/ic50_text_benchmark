{
 "cells": [
  {
   "cell_type": "markdown",
   "id": "2d3c1096-7a98-4d43-b7ee-37b000dd267e",
   "metadata": {},
   "source": [
    "# Setup"
   ]
  },
  {
   "cell_type": "code",
   "execution_count": 1,
   "id": "99b80014-2a9f-4f1c-a1c6-132c9f61b822",
   "metadata": {},
   "outputs": [
    {
     "data": {
      "application/vnd.jupyter.widget-view+json": {
       "model_id": "2b871dc2ecf9461dbb7943d1f685b775",
       "version_major": 2,
       "version_minor": 0
      },
      "text/plain": [
       "Fetching 16 files:   0%|          | 0/16 [00:00<?, ?it/s]"
      ]
     },
     "metadata": {},
     "output_type": "display_data"
    }
   ],
   "source": [
    "# Standard library imports\n",
    "import os\n",
    "import math\n",
    "import nest_asyncio\n",
    "nest_asyncio.apply()\n",
    "\n",
    "# Third-party imports\n",
    "import pandas as pd\n",
    "import requests\n",
    "import torch\n",
    "import torch.nn as nn\n",
    "import torch.distributed as dist\n",
    "from torch.nn.parallel import DistributedDataParallel as DDP\n",
    "from transformers import AutoTokenizer\n",
    "import lmdeploy\n",
    "from lmdeploy import GenerationConfig, PytorchEngineConfig\n",
    "\n",
    "# Local imports\n",
    "\n",
    "# Constants\n",
    "CUR_DIR = os.path.dirname(os.path.realpath('__file__'))\n",
    "MODEL_NAME = 'meta-llama/Meta-Llama-3.1-8B-Instruct'\n",
    "\n",
    "# Set device\n",
    "os.environ['CUDA_VISIBLE_DEVICES'] = '7'\n",
    "\n",
    "# Get model and move to GPU\n",
    "pipe = lmdeploy.pipeline(\n",
    "    MODEL_NAME,\n",
    "    backend_config=PytorchEngineConfig(\n",
    "        device_type='cuda'\n",
    "    )\n",
    ")\n",
    "\n",
    "# Set generation configuration\n",
    "gen_config = GenerationConfig(temperature=0, max_new_tokens=1024)"
   ]
  },
  {
   "cell_type": "markdown",
   "id": "7bf32456-0c85-4152-a16d-8dc388ec0849",
   "metadata": {
    "jp-MarkdownHeadingCollapsed": true
   },
   "source": [
    "# Check if Paper's Have Exact Value from Chembl"
   ]
  },
  {
   "cell_type": "code",
   "execution_count": null,
   "id": "c373a0eb-cf17-4895-9d91-9842d7198b24",
   "metadata": {},
   "outputs": [],
   "source": [
    "df = pd.read_json(f'{CUR_DIR}/data/regression.json')\n",
    "print(df.head())"
   ]
  },
  {
   "cell_type": "code",
   "execution_count": null,
   "id": "4e2060fe-c169-4614-a9d0-eafd6cc98518",
   "metadata": {},
   "outputs": [],
   "source": [
    "temp_df = df.sample(n=1)\n",
    "value = temp_df['value'].values[0]\n",
    "doi = temp_df['doi'].values[0]\n",
    "print('Value: ', value)\n",
    "print('DOI: ', doi)\n",
    "\n",
    "txt_path = f'/data/rbg/users/vincentf/data_uncertainty/c340_txt/{doi.replace(\"/\", \"_\")}.txt'\n",
    "with open(txt_path, 'r', encoding='utf-8') as file:\n",
    "    text = file.read()\n",
    "\n",
    "response = pipe([\n",
    "    f'''    \n",
    "    You are tasked with pulling data from the literature provided. \n",
    "    The text will contain key experimental details like assay type, inhibitors, and conditions.\n",
    "    We only want the text pertraining to the IC50 assay of digestive enzyme Cytochrome P450 3A4 (CYP3A4).\n",
    "    \n",
    "    The output should only include details present in the text; do not infer or add anything.\n",
    "\n",
    "    There is no need to add references.\n",
    "\n",
    "    INPUT:\n",
    "    {text}\n",
    "    \n",
    "    OUTPUT:\n",
    "    '''\n",
    "])"
   ]
  },
  {
   "cell_type": "code",
   "execution_count": null,
   "id": "1d37ec80-98f3-4976-8564-08bf96026d09",
   "metadata": {},
   "outputs": [],
   "source": [
    "print(response[0].text)"
   ]
  },
  {
   "cell_type": "markdown",
   "id": "0a7cedf0-125e-4f52-a321-9af15072b2aa",
   "metadata": {},
   "source": [
    "# Chunk Data and See if It Contains Assay Information"
   ]
  },
  {
   "cell_type": "code",
   "execution_count": 9,
   "id": "530a6d07-e7f0-497e-b3e3-cd42132fdbaf",
   "metadata": {},
   "outputs": [
    {
     "name": "stdout",
     "output_type": "stream",
     "text": [
      "Value:  5000.0\n",
      "DOI:  10.1021/acs.jmedchem.5b01146\n",
      "Description:  Inhibition of C-terminal four-histidine tagged human CYP3A4delta3 to 24 residues expressed in Escherichia coli assessed as 7-benzyloxy-4-(trifluoromethyl)coumarin O-debenzylation pretreated 2 mins followed by NADPH addition by fluorometric method in presence of rat cytochrome P450 reductase \n",
      "\n",
      "Value:  4000.0\n",
      "DOI:  10.1021/acs.jmedchem.5b01146\n",
      "Description:  Inhibition of C-terminal four-histidine tagged human CYP3A4delta3 to 24 residues expressed in Escherichia coli assessed as 7-benzyloxy-4-(trifluoromethyl)coumarin O-debenzylation pretreated 2 mins followed by NADPH addition by fluorometric method in presence of rat cytochrome P450 reductase \n",
      "\n",
      "Value:  1000.0\n",
      "DOI:  10.1021/acs.jmedchem.5b01146\n",
      "Description:  Inhibition of C-terminal four-histidine tagged human CYP3A4delta3 to 24 residues expressed in Escherichia coli assessed as 7-benzyloxy-4-(trifluoromethyl)coumarin O-debenzylation pretreated 2 mins followed by NADPH addition by fluorometric method in presence of rat cytochrome P450 reductase \n",
      "\n",
      "Value:  531.0\n",
      "DOI:  10.1021/jm0201924\n",
      "Description:  Inhibition of Cytochrome P450 3A4 as BQ substrate \n",
      "\n",
      "Value:  325.0\n",
      "DOI:  10.1016/j.bmcl.2016.04.018\n",
      "Description:  Inhibition of human liver microsomes CYP3A4 using testosterone as substrate by MUX-MS/MS analysis \n",
      "\n",
      "Response:  The authors of the manuscript are employees of Merck & Co., Inc. at the time of contribution to this work. The manuscript was written through contributions of all authors. All authors have given approval to the final version of the manuscript. The authors acknowledge Eric Meade, John Debenham, and Jeffrey Hale for reviewing the article and providing comments. \n",
      "\n"
     ]
    }
   ],
   "source": [
    "# Select random input\n",
    "df = pd.read_json(f'{CUR_DIR}/data/regression.json')\n",
    "df['assay_summary'] = None\n",
    "\n",
    "for index, row in df.iterrows():\n",
    "    try:\n",
    "        value = row['value']\n",
    "        doi = row['doi']\n",
    "        print('Value: ', value)\n",
    "        print('DOI: ', doi)\n",
    "        print('Description: ', row['description'], '\\n')\n",
    "\n",
    "        \n",
    "        # Pull chembl description to directly compare\n",
    "        \n",
    "        # Get input text\n",
    "        txt_path = f'/data/rbg/users/vincentf/data_uncertainty/c340_txt/{doi.replace(\"/\", \"_\")}.txt'\n",
    "        with open(txt_path, 'r', encoding='utf-8') as file:\n",
    "            text = file.read()\n",
    "        \n",
    "        response = pipe([\n",
    "            f'''   \n",
    "            Tell me:\n",
    "                1. The experimental conditions of the assay (e.g., substrate, substrate concentration, probe type, incubation time, buffer conditions).\n",
    "                2. The method used to determine the IC50 value (e.g., type of assay, detection method).\n",
    "                3. Any other relevant details about how the IC50 was measured.\n",
    "            \n",
    "            For the following text:\n",
    "            {text}\n",
    "            \n",
    "            Given the Cytochrome P450 (CYP) 3A4 IC50 measurement that produced the result:\n",
    "            {value} uM (might be mentioned in different units).            \n",
    "            '''\n",
    "        ])\n",
    "        row['assay_summary'] = response[0].text\n",
    "        print('Response: ', response[0].text, '\\n')\n",
    "        break\n",
    "    except Exception as e:\n",
    "        pass\n",
    "\n",
    "# Add text extractions to the JSON\n"
   ]
  },
  {
   "cell_type": "code",
   "execution_count": null,
   "id": "1cd858a2-89d8-4b4a-8e18-e63340f8a0ac",
   "metadata": {},
   "outputs": [],
   "source": [
    "# Load the texts\n",
    "\n",
    "# Get text embeddings (llama, bert)\n",
    "\n",
    "# Add embeddings to chemprop regression model & evaluate performance"
   ]
  },
  {
   "cell_type": "code",
   "execution_count": 45,
   "id": "db563e81-a850-4abb-b6ec-78582034862c",
   "metadata": {},
   "outputs": [
    {
     "ename": "IndentationError",
     "evalue": "unexpected indent (2687463195.py, line 5)",
     "output_type": "error",
     "traceback": [
      "\u001b[0;36m  Cell \u001b[0;32mIn[45], line 5\u001b[0;36m\u001b[0m\n\u001b[0;31m    error_happened = True\u001b[0m\n\u001b[0m    ^\u001b[0m\n\u001b[0;31mIndentationError\u001b[0m\u001b[0;31m:\u001b[0m unexpected indent\n"
     ]
    }
   ],
   "source": [
    "# Select random input\n",
    "df = pd.read_json(f'{CUR_DIR}/data/regression.json')\n",
    "\n",
    "# Try until document is retrieved\n",
    "\n",
    "    try:        \n",
    "        temp_df = df.sample(n=1)\n",
    "        value = temp_df['value'].values[0]\n",
    "        doi = temp_df['doi'].values[0]\n",
    "        print('Value: ', value)\n",
    "        print('DOI: ', doi)\n",
    "        \n",
    "        # Get input text\n",
    "        txt_path = f'/data/rbg/users/vincentf/data_uncertainty/c340_txt/{doi.replace(\"/\", \"_\")}.txt'\n",
    "        with open(txt_path, 'r', encoding='utf-8') as file:\n",
    "            text = file.read()\n",
    "        \n",
    "        response = pipe([\n",
    "            f'''   \n",
    "            For the following text:\n",
    "            {text}\n",
    "            \n",
    "            Given the Cytochrome P450 (CYP) 3A4 IC50 measurement that produced the result:\n",
    "            {value} uM (might be mentioned in different units).\n",
    "        \n",
    "            I am looking for only the following information:\n",
    "            1. The experimental conditions of the assay (e.g., substrate concentration, probe type, incubation time, buffer conditions).\n",
    "            2. The method used to determine the IC50 value (e.g., type of assay, detection method).\n",
    "            3. Any other relevant details about how the IC50 was measured.\n",
    "            '''\n",
    "        ])\n",
    "        error_happened = False\n",
    "print(response[0].text)"
   ]
  },
  {
   "cell_type": "code",
   "execution_count": 3,
   "id": "d44ab9d7-9bb7-4601-aca0-4ab9a6903b99",
   "metadata": {},
   "outputs": [
    {
     "name": "stdout",
     "output_type": "stream",
     "text": [
      "Value:  0.11\n",
      "DOI:  10.1016/j.bmcl.2009.07.118\n",
      "Here are the results in bullet-point format:\n",
      "\n",
      "* The IC50 value of 0.11 uM was determined for the inhibition of CYP3A4 by a specific compound.\n",
      "* The IC50 value of 0.11 uM was reported for the inhibition of CYP3A4.\n",
      "* The IC50 value of compound 1 was 0.11 μM.\n",
      "* The IC50 value of compound 2 was 0.11 μM.\n",
      "* The IC50 value of compound 16 was 0.11 μM.\n",
      "* The IC50 value of compound 17 was 0.11 μM.\n",
      "* The IC50 value of compound 18 was 0.11 μM.\n",
      "* The IC50 value of 0.11 uM was not mentioned in the passage, but the IC50 value of RTV is not mentioned, but the Ki value of RTV is mentioned: \"RTV is also a potent inhibitor of CYP3A (Ki = 3.2 nM)\"\n",
      "* The IC50 value of the novel CYP inhibitors is mentioned: \"These compounds were evaluated for their abilities to inhibit the CYP3A enzyme with IC50 values ranging from 0.11 uM to 1.1 uM.\"\n",
      "* Potent analogs in this series inhibit CYP3A with IC50 <0.1 μM, comparing favorably to inhibition by RTV (IC50 = 0.05 μM).\n",
      "* Two compounds, 8 and 16, co-dosed with LPV at 5 mg/kg each in dog, gave the greatest pharmacokinetic enhancement of LPV, with LPV AUC = 22.95 and 15.95 μg h/mL, respectively.\n",
      "* M. Chiba, L. Jin, W. Neway, J.P. Vacca, J.R. Tata, K. Chapman, J.H. Lin (2001) reported that the IC50 value of LPV for CYP3A4 was 0.11 uM.\n"
     ]
    }
   ],
   "source": [
    "# Select random input\n",
    "df = pd.read_json(f'{CUR_DIR}/data/regression.json')\n",
    "temp_df = df.sample(n=1)\n",
    "value = temp_df['value'].values[0]\n",
    "doi = temp_df['doi'].values[0]\n",
    "value = 0.11\n",
    "doi = '10.1016/j.bmcl.2009.07.118'\n",
    "print('Value: ', value)\n",
    "print('DOI: ', doi)\n",
    "\n",
    "# Get input text\n",
    "txt_path = f'/data/rbg/users/vincentf/data_uncertainty/c340_txt/{doi.replace(\"/\", \"_\")}.txt'\n",
    "with open(txt_path, 'r', encoding='utf-8') as file:\n",
    "    text = file.read()\n",
    "\n",
    "# Split text (optional)\n",
    "def split_text(text, chunk_size=1024):\n",
    "    return [text[i:i + chunk_size] for i in range(0, len(text), chunk_size)]\n",
    "    \n",
    "# Tokenize data\n",
    "tokenizer = AutoTokenizer.from_pretrained(MODEL_NAME, trust_remote_code=True)\n",
    "\n",
    "# Split tokens\n",
    "def tokenize_text(text, chunk_size=1024):\n",
    "    tokens = tokenizer.encode(text, return_tensors='pt')\n",
    "    return [tokens[:, i:i + chunk_size] for i in range(0, tokens.size(1), chunk_size)]\n",
    "\n",
    "responses = []\n",
    "chunks = tokenize_text(text) # split_text(text)\n",
    "for i, chunk in enumerate(chunks):\n",
    "    decoded_text = tokenizer.decode(chunk[0], skip_special_tokens=True)\n",
    "    response = pipe([\n",
    "        f'''    \n",
    "        Extract text from the following passage that discusses the inhibition of CYP3A4 in relation to its IC50 value. \n",
    "        The output should only include sentences that mention specific values or items related to IC50. \n",
    "        Specifically, only related to those studies that produced the IC50 value {value} uM.\n",
    "        \n",
    "        Please return the results in a bullet-point format. Do not include an introduction or references.\n",
    "        \n",
    "        {decoded_text}\n",
    "        '''\n",
    "    ])\n",
    "    responses.append(response[0].text)\n",
    "\n",
    "responses_text = ' '.join(responses)\n",
    "response = pipe([\n",
    "    f'''    \n",
    "    Summarize the following text. \n",
    "    Make sure that it only contains information relevant to the IC50 assay that produced {value} uM for CYP3A4.\n",
    "    \n",
    "    Please return the results in a bullet-point format. Do not include an introduction or references.\n",
    "    \n",
    "    {responses_text}\n",
    "    '''\n",
    "])\n",
    "print(response[0].text)"
   ]
  },
  {
   "cell_type": "markdown",
   "id": "d2fe3a34-91aa-4b3e-b3e3-5340cb3430d0",
   "metadata": {},
   "source": [
    "# Good Example"
   ]
  },
  {
   "cell_type": "code",
   "execution_count": null,
   "id": "adf9fbea-1510-4fb3-9288-323ef8526685",
   "metadata": {},
   "outputs": [],
   "source": [
    "temp_df = df.sample(n=1)\n",
    "value = temp_df['value'].values[0]\n",
    "doi = temp_df['doi'].values[0]\n",
    "print('Value: ', value)\n",
    "print('DOI: ', doi)\n",
    "\n",
    "txt_path = f'/data/rbg/users/vincentf/data_uncertainty/c340_txt/{doi.replace(\"/\", \"_\")}.txt'\n",
    "with open(txt_path, 'r', encoding='utf-8') as file:\n",
    "    text = file.read()\n",
    "    \n",
    "def split_text(text, chunk_size=1024):\n",
    "    return [text[i:i + chunk_size] for i in range(0, len(text), chunk_size)]\n",
    "\n",
    "chunks = split_text(text)\n",
    "for i, text in enumerate(chunks):\n",
    "    response = pipe([\n",
    "        f'''    \n",
    "        Please tell me whether or not the following text contains information regarding the IC50 of CYP 3A4 (Cytochrome P450).\n",
    "        The information should be related to the value provided: {value} uM.\n",
    "        Use 'yes' or 'no' as the output.\n",
    "        \n",
    "        INPUT:\n",
    "        {text}\n",
    "        \n",
    "        OUTPUT:\n",
    "        '''\n",
    "    ])\n",
    "    if response[0].text.lower() == 'yes':\n",
    "        response = pipe([\n",
    "            f'''    \n",
    "            You are tasked with pulling data from the literature provided. \n",
    "            The text will contain key experimental details like assay type, inhibitors, and conditions.\n",
    "            We only want the text pertraining to the IC50 assay with value: {value} uM for digestive enzyme Cytochrome P450 3A4 (CYP3A4).\n",
    "                    \n",
    "            The output should only include details present in the text; do not infer or add anything.\n",
    "        \n",
    "            There is no need to add references.\n",
    "\n",
    "            If you cannot find the information, output 'no'.\n",
    "        \n",
    "            INPUT:\n",
    "            {text}\n",
    "            \n",
    "            OUTPUT:\n",
    "            '''\n",
    "        ])\n",
    "\n",
    "        if 'no' not in response[0].text.lower():\n",
    "            print(response[0].text)"
   ]
  },
  {
   "cell_type": "code",
   "execution_count": null,
   "id": "e251ed63-1094-4ae9-8776-ef7dc37e09ff",
   "metadata": {},
   "outputs": [],
   "source": []
  }
 ],
 "metadata": {
  "kernelspec": {
   "display_name": "Python 3 (ipykernel)",
   "language": "python",
   "name": "python3"
  },
  "language_info": {
   "codemirror_mode": {
    "name": "ipython",
    "version": 3
   },
   "file_extension": ".py",
   "mimetype": "text/x-python",
   "name": "python",
   "nbconvert_exporter": "python",
   "pygments_lexer": "ipython3",
   "version": "3.11.9"
  }
 },
 "nbformat": 4,
 "nbformat_minor": 5
}
