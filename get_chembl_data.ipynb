{
 "cells": [
  {
   "cell_type": "markdown",
   "id": "0734d98e-0f52-4ee8-8650-801091a4dc6b",
   "metadata": {},
   "source": [
    "# Imports"
   ]
  },
  {
   "cell_type": "code",
   "execution_count": 104,
   "id": "54357ad0-56ec-4c93-942c-478a56cb4abe",
   "metadata": {},
   "outputs": [
    {
     "name": "stdout",
     "output_type": "stream",
     "text": [
      "CUDA available: True\n"
     ]
    }
   ],
   "source": [
    "# Standard library imports\n",
    "import os\n",
    "import math\n",
    "from pathlib import Path\n",
    "\n",
    "# Third-party imports\n",
    "import pandas as pd\n",
    "from lightning import pytorch as pl\n",
    "import torch\n",
    "from chemprop import data, featurizers, models, nn\n",
    "from chembl_webresource_client.new_client import new_client\n",
    "\n",
    "# Local imports\n",
    "\n",
    "# CUDA\n",
    "print(f\"CUDA available: {torch.cuda.is_available()}\")\n",
    "os.environ['CUDA_VISIBLE_DEVICES'] = '7'"
   ]
  },
  {
   "cell_type": "markdown",
   "id": "a70eea99-b716-4c19-81a2-b0dd04dadb43",
   "metadata": {},
   "source": [
    "# Constants"
   ]
  },
  {
   "cell_type": "code",
   "execution_count": 105,
   "id": "2e3b1129-b2cd-46bb-a8d0-24b58de1602f",
   "metadata": {},
   "outputs": [],
   "source": [
    "# Directory\n",
    "CUR_DIR = os.path.dirname(os.path.realpath('__file__'))\n",
    "\n",
    "# Cytochrome P450 3A4 IDs\n",
    "CYP3A4_CHEMBL_IDS = ['CHEMBL340', 'CHEMBL2111472', 'CHEMBL2364675', 'CHEMBL4523986']"
   ]
  },
  {
   "cell_type": "markdown",
   "id": "8fbf2434-407d-4333-952d-bf346ee2a24b",
   "metadata": {},
   "source": [
    "# ChEMBL Database"
   ]
  },
  {
   "cell_type": "code",
   "execution_count": null,
   "id": "90addcc4-1d44-4363-8fc8-7e433f9efde9",
   "metadata": {},
   "outputs": [
    {
     "name": "stdout",
     "output_type": "stream",
     "text": [
      "Resource: activity...\n",
      "Resource: document...\n"
     ]
    }
   ],
   "source": [
    "# Get all available items in new_client\n",
    "available_resources = [resource for resource in dir(new_client) if not resource.startswith('_')]\n",
    "all_data = {}\n",
    "for resource in ['activity', 'document']:\n",
    "    print(f'Resource: {resource}...')\n",
    "    if resource not in all_data:\n",
    "        all_data[resource] = []\n",
    "        \n",
    "    # Get caller for resource\n",
    "    caller = getattr(new_client, resource)\n",
    "    \n",
    "    # Fetch data for the specified chembl_id\n",
    "    caller_data = []\n",
    "    for chembl_id in CYP3A4_CHEMBL_IDS:\n",
    "        try:\n",
    "            caller_data.extend(\n",
    "                caller.filter(\n",
    "                    target_chembl_id=chembl_id\n",
    "                )\n",
    "            )\n",
    "        except Exception as e:\n",
    "            print(f\"Error fetching data from {resource} for ID {chembl_id}: {e}\")\n",
    "    \n",
    "    # Append the data to the resource's list in all_data\n",
    "    all_data[resource].append(pd.DataFrame(caller_data))\n",
    "    \n",
    "pd.DataFrame(all_data).to_json(f'{CUR_DIR}/data/cyp3a4_data.json', orient='records')"
   ]
  },
  {
   "cell_type": "code",
   "execution_count": null,
   "id": "423435e0-bd9e-4ba6-a2d2-c5c99edce272",
   "metadata": {},
   "outputs": [],
   "source": []
  }
 ],
 "metadata": {
  "kernelspec": {
   "display_name": "Python 3 (ipykernel)",
   "language": "python",
   "name": "python3"
  },
  "language_info": {
   "codemirror_mode": {
    "name": "ipython",
    "version": 3
   },
   "file_extension": ".py",
   "mimetype": "text/x-python",
   "name": "python",
   "nbconvert_exporter": "python",
   "pygments_lexer": "ipython3",
   "version": "3.11.9"
  }
 },
 "nbformat": 4,
 "nbformat_minor": 5
}
